{
 "cells": [
  {
   "cell_type": "markdown",
   "metadata": {},
   "source": [
    "# Student Project II\n",
    "- ### Niko Ganev\n",
    "- ### 03/22/2019\n",
    "\n",
    "## Northwind Database"
   ]
  },
  {
   "cell_type": "markdown",
   "metadata": {},
   "source": [
    "For this project, I will be working with the Northwind database--a free, open-source dataset created by Microsoft containing data from a fictional company.\n",
    "\n",
    "The goal of this project is to showcase my ability to gather information from a real-world database and use knowledge of statistical analysis and hypothesis testing to generate analytical insights that can be of value to the company. "
   ]
  },
  {
   "cell_type": "markdown",
   "metadata": {},
   "source": [
    "<br /><br />\n",
    "<img src=\"Northwind_ERD.png\" style=\"width:80%;\" alt=\"Database Schema\" />\n",
    "<br /><br />"
   ]
  },
  {
   "cell_type": "code",
   "execution_count": 1,
   "metadata": {},
   "outputs": [],
   "source": [
    "#Importing Libraries\n",
    "import sqlite3\n",
    "import pandas as pd\n",
    "import matplotlib.pyplot as plt\n",
    "from scipy import stats \n",
    "import statsmodels.api as sm\n",
    "from statsmodels.formula.api import ols\n",
    "import math\n",
    "import seaborn as sns\n",
    "import numpy as np\n",
    "plt.style.use('ggplot')\n",
    "\n",
    "import warnings\n",
    "warnings.filterwarnings('ignore') # hide matplotlib warnings"
   ]
  },
  {
   "cell_type": "markdown",
   "metadata": {},
   "source": [
    "## Formulating questions for the analysis"
   ]
  },
  {
   "cell_type": "markdown",
   "metadata": {},
   "source": [
    "- **Question 1**: a.Is there a Statistically significant difference between discount levels?\n",
    "             b.Does the amount of the discount matter?\n",
    "            \n",
    "- **Question 2**: Is there a statistically significant difference in discount between categories?\n",
    "\n",
    "- **Question 3**: Do discounts increase quantity of a single product purchased in an order?\n",
    "\n",
    "- **Question 4**: Are there regions where discounts have a significantly higher effect on quantity purchased compared to the other regions?"
   ]
  },
  {
   "cell_type": "markdown",
   "metadata": {},
   "source": [
    "## Processing Data and checking for normality in distribution of quantities per order"
   ]
  },
  {
   "cell_type": "code",
   "execution_count": 2,
   "metadata": {},
   "outputs": [],
   "source": [
    "conn = sqlite3.connect('Northwind_small.sqlite')\n",
    "cur = conn.cursor()"
   ]
  },
  {
   "cell_type": "code",
   "execution_count": 3,
   "metadata": {},
   "outputs": [
    {
     "data": {
      "text/plain": [
       "[('Employee',),\n",
       " ('Category',),\n",
       " ('Customer',),\n",
       " ('Shipper',),\n",
       " ('Supplier',),\n",
       " ('Order',),\n",
       " ('Product',),\n",
       " ('OrderDetail',),\n",
       " ('CustomerCustomerDemo',),\n",
       " ('CustomerDemographic',),\n",
       " ('Region',),\n",
       " ('Territory',),\n",
       " ('EmployeeTerritory',)]"
      ]
     },
     "execution_count": 3,
     "metadata": {},
     "output_type": "execute_result"
    }
   ],
   "source": [
    "#checkin table names inside Data Base\n",
    "#-------------------------------------------------------------------------------------------------------------------------------\n",
    "cur.execute(\"\"\"SELECT name FROM sqlite_master WHERE type='table';\"\"\").fetchall()"
   ]
  },
  {
   "cell_type": "code",
   "execution_count": 4,
   "metadata": {},
   "outputs": [
    {
     "data": {
      "text/html": [
       "<div>\n",
       "<style scoped>\n",
       "    .dataframe tbody tr th:only-of-type {\n",
       "        vertical-align: middle;\n",
       "    }\n",
       "\n",
       "    .dataframe tbody tr th {\n",
       "        vertical-align: top;\n",
       "    }\n",
       "\n",
       "    .dataframe thead th {\n",
       "        text-align: right;\n",
       "    }\n",
       "</style>\n",
       "<table border=\"1\" class=\"dataframe\">\n",
       "  <thead>\n",
       "    <tr style=\"text-align: right;\">\n",
       "      <th></th>\n",
       "      <th>Id</th>\n",
       "      <th>OrderId</th>\n",
       "      <th>ProductId</th>\n",
       "      <th>UnitPrice</th>\n",
       "      <th>Quantity</th>\n",
       "      <th>Discount</th>\n",
       "    </tr>\n",
       "  </thead>\n",
       "  <tbody>\n",
       "    <tr>\n",
       "      <th>0</th>\n",
       "      <td>10248/11</td>\n",
       "      <td>10248</td>\n",
       "      <td>11</td>\n",
       "      <td>14.0</td>\n",
       "      <td>12</td>\n",
       "      <td>0.0</td>\n",
       "    </tr>\n",
       "    <tr>\n",
       "      <th>1</th>\n",
       "      <td>10248/42</td>\n",
       "      <td>10248</td>\n",
       "      <td>42</td>\n",
       "      <td>9.8</td>\n",
       "      <td>10</td>\n",
       "      <td>0.0</td>\n",
       "    </tr>\n",
       "    <tr>\n",
       "      <th>2</th>\n",
       "      <td>10248/72</td>\n",
       "      <td>10248</td>\n",
       "      <td>72</td>\n",
       "      <td>34.8</td>\n",
       "      <td>5</td>\n",
       "      <td>0.0</td>\n",
       "    </tr>\n",
       "    <tr>\n",
       "      <th>3</th>\n",
       "      <td>10249/14</td>\n",
       "      <td>10249</td>\n",
       "      <td>14</td>\n",
       "      <td>18.6</td>\n",
       "      <td>9</td>\n",
       "      <td>0.0</td>\n",
       "    </tr>\n",
       "    <tr>\n",
       "      <th>4</th>\n",
       "      <td>10249/51</td>\n",
       "      <td>10249</td>\n",
       "      <td>51</td>\n",
       "      <td>42.4</td>\n",
       "      <td>40</td>\n",
       "      <td>0.0</td>\n",
       "    </tr>\n",
       "  </tbody>\n",
       "</table>\n",
       "</div>"
      ],
      "text/plain": [
       "         Id  OrderId  ProductId  UnitPrice  Quantity  Discount\n",
       "0  10248/11    10248         11       14.0        12       0.0\n",
       "1  10248/42    10248         42        9.8        10       0.0\n",
       "2  10248/72    10248         72       34.8         5       0.0\n",
       "3  10249/14    10249         14       18.6         9       0.0\n",
       "4  10249/51    10249         51       42.4        40       0.0"
      ]
     },
     "execution_count": 4,
     "metadata": {},
     "output_type": "execute_result"
    }
   ],
   "source": [
    "#Looking into Orderdetails table\n",
    "#-------------------------------------------------------------------------------------------------------------------------------\n",
    "order_details=pd.read_sql(\"\"\"SELECT * FROM [OrderDetail];\"\"\",con=conn)\n",
    "order_details.head()"
   ]
  },
  {
   "cell_type": "code",
   "execution_count": 5,
   "metadata": {},
   "outputs": [
    {
     "data": {
      "text/html": [
       "<div>\n",
       "<style scoped>\n",
       "    .dataframe tbody tr th:only-of-type {\n",
       "        vertical-align: middle;\n",
       "    }\n",
       "\n",
       "    .dataframe tbody tr th {\n",
       "        vertical-align: top;\n",
       "    }\n",
       "\n",
       "    .dataframe thead th {\n",
       "        text-align: right;\n",
       "    }\n",
       "</style>\n",
       "<table border=\"1\" class=\"dataframe\">\n",
       "  <thead>\n",
       "    <tr style=\"text-align: right;\">\n",
       "      <th></th>\n",
       "      <th>Quantity</th>\n",
       "      <th>Discount</th>\n",
       "    </tr>\n",
       "  </thead>\n",
       "  <tbody>\n",
       "    <tr>\n",
       "      <th>0</th>\n",
       "      <td>12</td>\n",
       "      <td>0.00</td>\n",
       "    </tr>\n",
       "    <tr>\n",
       "      <th>1</th>\n",
       "      <td>10</td>\n",
       "      <td>0.00</td>\n",
       "    </tr>\n",
       "    <tr>\n",
       "      <th>2</th>\n",
       "      <td>5</td>\n",
       "      <td>0.00</td>\n",
       "    </tr>\n",
       "    <tr>\n",
       "      <th>3</th>\n",
       "      <td>9</td>\n",
       "      <td>0.00</td>\n",
       "    </tr>\n",
       "    <tr>\n",
       "      <th>4</th>\n",
       "      <td>40</td>\n",
       "      <td>0.00</td>\n",
       "    </tr>\n",
       "    <tr>\n",
       "      <th>5</th>\n",
       "      <td>10</td>\n",
       "      <td>0.00</td>\n",
       "    </tr>\n",
       "    <tr>\n",
       "      <th>6</th>\n",
       "      <td>35</td>\n",
       "      <td>0.15</td>\n",
       "    </tr>\n",
       "    <tr>\n",
       "      <th>7</th>\n",
       "      <td>15</td>\n",
       "      <td>0.15</td>\n",
       "    </tr>\n",
       "    <tr>\n",
       "      <th>8</th>\n",
       "      <td>6</td>\n",
       "      <td>0.05</td>\n",
       "    </tr>\n",
       "    <tr>\n",
       "      <th>9</th>\n",
       "      <td>15</td>\n",
       "      <td>0.05</td>\n",
       "    </tr>\n",
       "  </tbody>\n",
       "</table>\n",
       "</div>"
      ],
      "text/plain": [
       "   Quantity  Discount\n",
       "0        12      0.00\n",
       "1        10      0.00\n",
       "2         5      0.00\n",
       "3         9      0.00\n",
       "4        40      0.00\n",
       "5        10      0.00\n",
       "6        35      0.15\n",
       "7        15      0.15\n",
       "8         6      0.05\n",
       "9        15      0.05"
      ]
     },
     "execution_count": 5,
     "metadata": {},
     "output_type": "execute_result"
    }
   ],
   "source": [
    "df=pd.DataFrame()\n",
    "for col in ['Quantity','Discount']:\n",
    "    df[col]=order_details[col]\n",
    "df.head(10)"
   ]
  },
  {
   "cell_type": "code",
   "execution_count": 6,
   "metadata": {},
   "outputs": [
    {
     "data": {
      "image/png": "[encoded data removed]",
      "text/plain": [
       "<Figure size 720x432 with 1 Axes>"
      ]
     },
     "metadata": {
      "needs_background": "light"
     },
     "output_type": "display_data"
    }
   ],
   "source": [
    "#lets plot the means of quantities purchased against discounts to check\n",
    "#if visually there seems to be a significatn difference\n",
    "#------------------------------------------------------------------------------------------\n",
    "discounts=sorted(list(df.Discount.unique()))\n",
    "x=[str(i) for i in discounts]\n",
    "y=[]\n",
    "for discount in discounts:\n",
    "    mean=df.Quantity[df['Discount']==discount].mean()\n",
    "    y.append(round(mean,2))\n",
    "plt.figure(figsize=(10,6))\n",
    "plt.bar(x, y)\n",
    "\n",
    "\n",
    "discounts.remove(0)"
   ]
  },
  {
   "cell_type": "markdown",
   "metadata": {},
   "source": [
    "Discounts seem to have a higher mean quantity per order."
   ]
  },
  {
   "cell_type": "code",
   "execution_count": 7,
   "metadata": {},
   "outputs": [
    {
     "name": "stdout",
     "output_type": "stream",
     "text": [
      "The sample contains 838 observations, having a mean of 27.10978520286396 and a standard deviation (sigma) =  20.77143923484604 , with 837 degrees of freedom. The difference between sample and population means is: 5.394523243866239\n"
     ]
    },
    {
     "data": {
      "image/png": "[encoded data removed]",
      "text/plain": [
       "<Figure size 432x288 with 1 Axes>"
      ]
     },
     "metadata": {
      "needs_background": "light"
     },
     "output_type": "display_data"
    }
   ],
   "source": [
    "#plotting mean of no discount sv mean of quantities with discount\n",
    "#------------------------------------------------------------------------------------------\n",
    "h=[df.Quantity[df['Discount']==0].mean(),df.Quantity[df['Discount']!=0].mean()]\n",
    "plt.figure(figsize=(6,4))\n",
    "plt.bar(['No Discount','Discount'],h)\n",
    "\n",
    "\n",
    "\n",
    "population=df.Quantity[df['Discount']==0]\n",
    "sample=df.Quantity[df['Discount']!=0]\n",
    "\n",
    "mu=population.mean()\n",
    "x_bar=sample.mean()   \n",
    "sigma=sample.std()\n",
    "n=len(sample)\n",
    "dff=n-1\n",
    "\n",
    "diff = x_bar - mu\n",
    "\n",
    "print ('The sample contains', n, 'observations, having a mean of', x_bar, \"and a standard deviation (sigma) = \", sigma, \n",
    "       \", with\", dff, 'degrees of freedom. The difference between sample and population means is:', diff)\n"
   ]
  },
  {
   "cell_type": "markdown",
   "metadata": {},
   "source": [
    "This second comparison reinforces the idea that it is likely for orders with discounts to exhibit higher quantities ordered."
   ]
  },
  {
   "cell_type": "markdown",
   "metadata": {},
   "source": [
    "##### Drawing a distribution from sample values to check for normality"
   ]
  },
  {
   "cell_type": "code",
   "execution_count": 8,
   "metadata": {},
   "outputs": [
    {
     "name": "stdout",
     "output_type": "stream",
     "text": [
      "Skewness: 1.584410\n",
      "Kurtosis: 3.312448\n"
     ]
    },
    {
     "data": {
      "image/png": "[encoded data removed]",
      "text/plain": [
       "<Figure size 864x720 with 1 Axes>"
      ]
     },
     "metadata": {},
     "output_type": "display_data"
    }
   ],
   "source": [
    "sns.set(color_codes=True)\n",
    "sns.set(rc={'figure.figsize':(12,10)})\n",
    "sns.distplot(sample)\n",
    "\n",
    "print(\"Skewness: %f\" % sample.skew())\n",
    "print(\"Kurtosis: %f\" % sample.kurt())\n"
   ]
  },
  {
   "cell_type": "markdown",
   "metadata": {},
   "source": [
    "Since the sample exhibits skewness the Kolmogorov-Smirnov (KS) test for normality will let us check if we can safely run our hypothesis testing"
   ]
  },
  {
   "cell_type": "code",
   "execution_count": 9,
   "metadata": {},
   "outputs": [],
   "source": [
    "#creating a function to plot KS test\n",
    "#--------------------------------------------------------------------------\n",
    "def ks_plot(data):\n",
    "\n",
    "    plt.figure(figsize=(10, 7))\n",
    "    plt.plot(np.sort(data), np.linspace(0, 1, len(data), endpoint=False))\n",
    "    plt.plot(np.sort(stats.norm.rvs(loc=mu, scale=df.Quantity.std(), size=len(data))), np.linspace(0, 1, len(data), endpoint=False))\n",
    "\n",
    "    plt.legend(['ECDF', 'CDF'])\n",
    "    plt.title('Comparing CDFs for KS-Test, Sample size=' + str(len(data)))"
   ]
  },
  {
   "cell_type": "code",
   "execution_count": 10,
   "metadata": {},
   "outputs": [
    {
     "name": "stdout",
     "output_type": "stream",
     "text": [
      "KstestResult(statistic=0.12097507077796603, pvalue=3.81341624944298e-11)\n"
     ]
    },
    {
     "data": {
      "image/png": "[encoded data removed]",
      "text/plain": [
       "<Figure size 720x504 with 1 Axes>"
      ]
     },
     "metadata": {},
     "output_type": "display_data"
    }
   ],
   "source": [
    "#checking for Normality by comparting the CDF of the distribution \n",
    "#to a normal distribution with same mean ans standard deviation \n",
    "#--------------------------------------------------------------------------\n",
    "ks_plot(sample)\n",
    "print (stats.kstest(sample, 'norm', args=(df.Quantity.mean(), df.Quantity.std())))"
   ]
  },
  {
   "cell_type": "markdown",
   "metadata": {},
   "source": [
    "- ### Result\n",
    "KS test confirms normality requirement is met."
   ]
  },
  {
   "cell_type": "markdown",
   "metadata": {},
   "source": [
    "## Question 1.a: Is there a Statistically significant difference in quantity order when there is a discount compared to no discount. \n",
    "\n",
    "$H_0$: \"The discount has NO effect on the number of products customers order\"\n",
    "$H_0$: mu=x_bar\n",
    "\n",
    "$H_\\alpha$: \"The discount has an effect on the number of products customers order\"\n",
    "$H_\\alpha$ : mu<x_bar"
   ]
  },
  {
   "cell_type": "code",
   "execution_count": 11,
   "metadata": {},
   "outputs": [
    {
     "data": {
      "image/png": "[encoded data removed]",
      "text/plain": [
       "<Figure size 936x576 with 1 Axes>"
      ]
     },
     "metadata": {},
     "output_type": "display_data"
    }
   ],
   "source": [
    "#Calculating and plotting t-value vs critical t-value\n",
    "#----------------------------------------------- \n",
    "t = (x_bar -  mu)/(sigma/np.sqrt(n))\n",
    "t_crit = np.round(stats.t.ppf(1 -0.05, df=dff),3)\n",
    "\n",
    "xs = np.linspace(-8, 8, 2000)\n",
    "ys = stats.t.pdf(xs, dff, 0, 1)\n",
    "fig = plt.figure(figsize=(13,8))\n",
    "ax = fig.gca()\n",
    "ax.plot(xs, ys, linewidth=3, color='darkblue')\n",
    "\n",
    "# plotting a vertical line for our measured difference in rates t-statistic vs critical t\n",
    "ax.axvline(t, color='red', linestyle='--', lw=5)\n",
    "ax.axvline(t_crit, color='darkblue', linestyle='--', lw=5)\n",
    "\n",
    "plt.show()"
   ]
  },
  {
   "cell_type": "code",
   "execution_count": 12,
   "metadata": {},
   "outputs": [
    {
     "name": "stdout",
     "output_type": "stream",
     "text": [
      "The critical t-value for sample is 1.647\n",
      "The t-value for sample is 7.52 and the p-value is 0.0\n"
     ]
    }
   ],
   "source": [
    "t_crit = np.round(stats.t.ppf(1 - 0.05, df=dff),3)\n",
    "print(\"The critical t-value for sample is\",t_crit)\n",
    "\n",
    "results = stats.ttest_1samp(a= sample, popmean= mu)         \n",
    "print (\"The t-value for sample is\", round(results[0], 2), \"and the p-value is\", np.round((results[1]), 4))"
   ]
  },
  {
   "cell_type": "markdown",
   "metadata": {},
   "source": [
    "- ### Result for 1.a:\n",
    "We reject the null hypothesis and conclude that the mean number of articles sold on orders with discounts is statistically significantly higher than the mean number of articles sold on orders without discounts at a significance level of 1% or even less."
   ]
  },
  {
   "cell_type": "markdown",
   "metadata": {},
   "source": [
    "## Question 1.b : Does the amount of the discount matter?\n",
    "\n",
    "##### Formulating the Hypothesis \n",
    "$H_0$: \"The percentage of discount has NO effect on the number of products customers order\"\n",
    "\n",
    "\n",
    "$H_\\alpha$: \"The percentage of discount has an effect on the number of products customers order\"\n",
    "\n",
    "##  \n",
    "\n",
    "We are going to test each discount level quantity mean against the population mean\n"
   ]
  },
  {
   "cell_type": "code",
   "execution_count": 13,
   "metadata": {},
   "outputs": [
    {
     "name": "stdout",
     "output_type": "stream",
     "text": [
      "For a discount of 1.0 % The t-value for sample is 5.14 and the p-value is 0.0 \n",
      "\n",
      "For a discount of 2.0 % The t-value for sample is 5.17 and the p-value is 0.0 \n",
      "\n",
      "For a discount of 3.0 % The t-value for sample is 5.19 and the p-value is 0.0 \n",
      "\n",
      "For a discount of 4.0 % The t-value for sample is 5.14 and the p-value is 0.0 \n",
      "\n",
      "For a discount of 5.0 % The t-value for sample is 4.05 and the p-value is 0.0001 \n",
      "\n",
      "For a discount of 6.0 % The t-value for sample is 5.14 and the p-value is 0.0 \n",
      "\n",
      "For a discount of 10.0 % The t-value for sample is 4.67 and the p-value is 0.0 \n",
      "\n",
      "For a discount of 15.0 % The t-value for sample is 4.13 and the p-value is 0.0 \n",
      "\n",
      "For a discount of 20.0 % The t-value for sample is 4.32 and the p-value is 0.0 \n",
      "\n",
      "For a discount of 25.0 % The t-value for sample is 4.16 and the p-value is 0.0 \n",
      "\n"
     ]
    }
   ],
   "source": [
    "for discount in discounts:\n",
    "    data=df.Quantity[df['Discount']!=discount]\n",
    "    results = stats.ttest_1samp(a= data, popmean= mu) \n",
    "    \n",
    "    print (\"For a discount of\",discount*100,\"% The t-value for sample is\", round(results[0], 2), \"and the p-value is\", np.round((results[1]), 4),'\\n')"
   ]
  },
  {
   "cell_type": "markdown",
   "metadata": {},
   "source": [
    "- ### Result for question 1.b:\n",
    "Since all the values are statistically significant at a significance level of 5% or less, we can say at that level of confidence that the actual amount of the discount does not really matter as long as there is a discount. Note that the values for 1%, 2% and 3% discounts are not reliable because only a few orders with these levels of discounts are available. More data would be needed.\n",
    "\n"
   ]
  },
  {
   "cell_type": "markdown",
   "metadata": {},
   "source": [
    "## Question 2: Is there a statistically significant difference in discount between categories?\n",
    "\n",
    "$H_0$: There is no difference in discount level between categories.\n",
    "\n",
    "$H_\\alpha$: There is a difference in discount level between categories."
   ]
  },
  {
   "cell_type": "code",
   "execution_count": 14,
   "metadata": {},
   "outputs": [
    {
     "data": {
      "text/html": [
       "<div>\n",
       "<style scoped>\n",
       "    .dataframe tbody tr th:only-of-type {\n",
       "        vertical-align: middle;\n",
       "    }\n",
       "\n",
       "    .dataframe tbody tr th {\n",
       "        vertical-align: top;\n",
       "    }\n",
       "\n",
       "    .dataframe thead th {\n",
       "        text-align: right;\n",
       "    }\n",
       "</style>\n",
       "<table border=\"1\" class=\"dataframe\">\n",
       "  <thead>\n",
       "    <tr style=\"text-align: right;\">\n",
       "      <th></th>\n",
       "      <th>UnitPrice</th>\n",
       "      <th>Discount</th>\n",
       "      <th>CategoryId</th>\n",
       "    </tr>\n",
       "  </thead>\n",
       "  <tbody>\n",
       "    <tr>\n",
       "      <th>0</th>\n",
       "      <td>14.0</td>\n",
       "      <td>0.00</td>\n",
       "      <td>4</td>\n",
       "    </tr>\n",
       "    <tr>\n",
       "      <th>1</th>\n",
       "      <td>9.8</td>\n",
       "      <td>0.00</td>\n",
       "      <td>5</td>\n",
       "    </tr>\n",
       "    <tr>\n",
       "      <th>2</th>\n",
       "      <td>34.8</td>\n",
       "      <td>0.00</td>\n",
       "      <td>4</td>\n",
       "    </tr>\n",
       "    <tr>\n",
       "      <th>3</th>\n",
       "      <td>18.6</td>\n",
       "      <td>0.00</td>\n",
       "      <td>7</td>\n",
       "    </tr>\n",
       "    <tr>\n",
       "      <th>4</th>\n",
       "      <td>42.4</td>\n",
       "      <td>0.00</td>\n",
       "      <td>7</td>\n",
       "    </tr>\n",
       "    <tr>\n",
       "      <th>5</th>\n",
       "      <td>7.7</td>\n",
       "      <td>0.00</td>\n",
       "      <td>8</td>\n",
       "    </tr>\n",
       "    <tr>\n",
       "      <th>6</th>\n",
       "      <td>42.4</td>\n",
       "      <td>0.15</td>\n",
       "      <td>7</td>\n",
       "    </tr>\n",
       "    <tr>\n",
       "      <th>7</th>\n",
       "      <td>16.8</td>\n",
       "      <td>0.15</td>\n",
       "      <td>2</td>\n",
       "    </tr>\n",
       "    <tr>\n",
       "      <th>8</th>\n",
       "      <td>16.8</td>\n",
       "      <td>0.05</td>\n",
       "      <td>5</td>\n",
       "    </tr>\n",
       "    <tr>\n",
       "      <th>9</th>\n",
       "      <td>15.6</td>\n",
       "      <td>0.05</td>\n",
       "      <td>5</td>\n",
       "    </tr>\n",
       "  </tbody>\n",
       "</table>\n",
       "</div>"
      ],
      "text/plain": [
       "   UnitPrice  Discount  CategoryId\n",
       "0       14.0      0.00           4\n",
       "1        9.8      0.00           5\n",
       "2       34.8      0.00           4\n",
       "3       18.6      0.00           7\n",
       "4       42.4      0.00           7\n",
       "5        7.7      0.00           8\n",
       "6       42.4      0.15           7\n",
       "7       16.8      0.15           2\n",
       "8       16.8      0.05           5\n",
       "9       15.6      0.05           5"
      ]
     },
     "execution_count": 14,
     "metadata": {},
     "output_type": "execute_result"
    }
   ],
   "source": [
    "category_discount = pd.read_sql_query('''\n",
    "\n",
    "                        SELECT OrderDetail.UnitPrice, Discount, CategoryId FROM OrderDetail\n",
    "                        JOIN Product \n",
    "                        ON OrderDetail.ProductId = Product.Id''',conn)\n",
    "\n",
    "category_discount.head(10)\n",
    "\n"
   ]
  },
  {
   "cell_type": "code",
   "execution_count": 15,
   "metadata": {},
   "outputs": [
    {
     "name": "stdout",
     "output_type": "stream",
     "text": [
      "                  sum_sq      df         F    PR(>F)\n",
      "C(CategoryId)   0.074918     7.0  1.539545  0.149326\n",
      "Residual       14.925422  2147.0       NaN       NaN\n"
     ]
    }
   ],
   "source": [
    "formula = 'Discount ~ C(CategoryId)'\n",
    "lm = ols(formula, category_discount).fit()\n",
    "table = sm.stats.anova_lm(lm, typ=2)\n",
    "print(table)"
   ]
  },
  {
   "cell_type": "markdown",
   "metadata": {},
   "source": [
    "- ### Result\n",
    "\n",
    "There is no statistically significant difference in discount level between the eight categories at the 5% significance level, no post hoc test required.\n",
    "\n",
    "## Question 3 : Do discounts increase quantity of product purchased in an order?\n",
    "\n",
    "$H_0$: There is no difference in quantity of a single product purchased in an order due to discount on that same product.\n",
    "\n",
    "$H_\\alpha$: Discount on a product increases the quantity purchased per order.\n"
   ]
  },
  {
   "cell_type": "code",
   "execution_count": 16,
   "metadata": {},
   "outputs": [
    {
     "data": {
      "text/html": [
       "<div>\n",
       "<style scoped>\n",
       "    .dataframe tbody tr th:only-of-type {\n",
       "        vertical-align: middle;\n",
       "    }\n",
       "\n",
       "    .dataframe tbody tr th {\n",
       "        vertical-align: top;\n",
       "    }\n",
       "\n",
       "    .dataframe thead th {\n",
       "        text-align: right;\n",
       "    }\n",
       "</style>\n",
       "<table border=\"1\" class=\"dataframe\">\n",
       "  <thead>\n",
       "    <tr style=\"text-align: right;\">\n",
       "      <th></th>\n",
       "      <th>ProductId</th>\n",
       "      <th>ProductName</th>\n",
       "      <th>Quantity</th>\n",
       "      <th>Discount</th>\n",
       "    </tr>\n",
       "  </thead>\n",
       "  <tbody>\n",
       "    <tr>\n",
       "      <th>0</th>\n",
       "      <td>11</td>\n",
       "      <td>Queso Cabrales</td>\n",
       "      <td>12</td>\n",
       "      <td>0.0</td>\n",
       "    </tr>\n",
       "    <tr>\n",
       "      <th>1</th>\n",
       "      <td>42</td>\n",
       "      <td>Singaporean Hokkien Fried Mee</td>\n",
       "      <td>10</td>\n",
       "      <td>0.0</td>\n",
       "    </tr>\n",
       "    <tr>\n",
       "      <th>2</th>\n",
       "      <td>72</td>\n",
       "      <td>Mozzarella di Giovanni</td>\n",
       "      <td>5</td>\n",
       "      <td>0.0</td>\n",
       "    </tr>\n",
       "    <tr>\n",
       "      <th>3</th>\n",
       "      <td>14</td>\n",
       "      <td>Tofu</td>\n",
       "      <td>9</td>\n",
       "      <td>0.0</td>\n",
       "    </tr>\n",
       "    <tr>\n",
       "      <th>4</th>\n",
       "      <td>51</td>\n",
       "      <td>Manjimup Dried Apples</td>\n",
       "      <td>40</td>\n",
       "      <td>0.0</td>\n",
       "    </tr>\n",
       "  </tbody>\n",
       "</table>\n",
       "</div>"
      ],
      "text/plain": [
       "   ProductId                    ProductName  Quantity  Discount\n",
       "0         11                 Queso Cabrales        12       0.0\n",
       "1         42  Singaporean Hokkien Fried Mee        10       0.0\n",
       "2         72         Mozzarella di Giovanni         5       0.0\n",
       "3         14                           Tofu         9       0.0\n",
       "4         51          Manjimup Dried Apples        40       0.0"
      ]
     },
     "execution_count": 16,
     "metadata": {},
     "output_type": "execute_result"
    }
   ],
   "source": [
    "product_discounts = pd.read_sql_query('''\n",
    "\n",
    "                        SELECT ProductId, ProductName,\n",
    "                         Quantity, Discount FROM OrderDetail\n",
    "                        JOIN Product \n",
    "                        ON OrderDetail.ProductId = Product.Id''',conn)\n",
    "\n",
    "product_discounts.head()"
   ]
  },
  {
   "cell_type": "code",
   "execution_count": 17,
   "metadata": {},
   "outputs": [
    {
     "data": {
      "text/html": [
       "<div>\n",
       "<style scoped>\n",
       "    .dataframe tbody tr th:only-of-type {\n",
       "        vertical-align: middle;\n",
       "    }\n",
       "\n",
       "    .dataframe tbody tr th {\n",
       "        vertical-align: top;\n",
       "    }\n",
       "\n",
       "    .dataframe thead th {\n",
       "        text-align: right;\n",
       "    }\n",
       "</style>\n",
       "<table border=\"1\" class=\"dataframe\">\n",
       "  <thead>\n",
       "    <tr style=\"text-align: right;\">\n",
       "      <th></th>\n",
       "      <th>ProductId</th>\n",
       "      <th>Name</th>\n",
       "      <th>TotalOrders</th>\n",
       "      <th>DiscountedOrders</th>\n",
       "      <th>MeanQuantity</th>\n",
       "      <th>MeanQuantityDiscounted</th>\n",
       "      <th>TValues</th>\n",
       "      <th>PValues</th>\n",
       "      <th>StatisticallySignificant</th>\n",
       "    </tr>\n",
       "  </thead>\n",
       "  <tbody>\n",
       "    <tr>\n",
       "      <th>0</th>\n",
       "      <td>1</td>\n",
       "      <td>Chai</td>\n",
       "      <td>38</td>\n",
       "      <td>16</td>\n",
       "      <td>21.79</td>\n",
       "      <td>27.31</td>\n",
       "      <td>1.040000</td>\n",
       "      <td>0.3166</td>\n",
       "      <td>False</td>\n",
       "    </tr>\n",
       "    <tr>\n",
       "      <th>1</th>\n",
       "      <td>2</td>\n",
       "      <td>Chang</td>\n",
       "      <td>44</td>\n",
       "      <td>25</td>\n",
       "      <td>24.02</td>\n",
       "      <td>25.96</td>\n",
       "      <td>0.480000</td>\n",
       "      <td>0.6327</td>\n",
       "      <td>False</td>\n",
       "    </tr>\n",
       "    <tr>\n",
       "      <th>2</th>\n",
       "      <td>3</td>\n",
       "      <td>Aniseed Syrup</td>\n",
       "      <td>12</td>\n",
       "      <td>2</td>\n",
       "      <td>27.33</td>\n",
       "      <td>20.00</td>\n",
       "      <td>-inf</td>\n",
       "      <td>0.0000</td>\n",
       "      <td>False</td>\n",
       "    </tr>\n",
       "    <tr>\n",
       "      <th>3</th>\n",
       "      <td>4</td>\n",
       "      <td>Chef Anton's Cajun Seasoning</td>\n",
       "      <td>20</td>\n",
       "      <td>10</td>\n",
       "      <td>22.65</td>\n",
       "      <td>28.10</td>\n",
       "      <td>1.070000</td>\n",
       "      <td>0.3142</td>\n",
       "      <td>False</td>\n",
       "    </tr>\n",
       "    <tr>\n",
       "      <th>4</th>\n",
       "      <td>5</td>\n",
       "      <td>Chef Anton's Gumbo Mix</td>\n",
       "      <td>10</td>\n",
       "      <td>4</td>\n",
       "      <td>29.80</td>\n",
       "      <td>30.50</td>\n",
       "      <td>0.060000</td>\n",
       "      <td>0.9577</td>\n",
       "      <td>False</td>\n",
       "    </tr>\n",
       "  </tbody>\n",
       "</table>\n",
       "</div>"
      ],
      "text/plain": [
       "   ProductId                          Name  TotalOrders  DiscountedOrders  \\\n",
       "0          1                          Chai           38                16   \n",
       "1          2                         Chang           44                25   \n",
       "2          3                 Aniseed Syrup           12                 2   \n",
       "3          4  Chef Anton's Cajun Seasoning           20                10   \n",
       "4          5        Chef Anton's Gumbo Mix           10                 4   \n",
       "\n",
       "   MeanQuantity  MeanQuantityDiscounted   TValues  PValues  \\\n",
       "0         21.79                   27.31  1.040000   0.3166   \n",
       "1         24.02                   25.96  0.480000   0.6327   \n",
       "2         27.33                   20.00      -inf   0.0000   \n",
       "3         22.65                   28.10  1.070000   0.3142   \n",
       "4         29.80                   30.50  0.060000   0.9577   \n",
       "\n",
       "   StatisticallySignificant  \n",
       "0                     False  \n",
       "1                     False  \n",
       "2                     False  \n",
       "3                     False  \n",
       "4                     False  "
      ]
     },
     "execution_count": 17,
     "metadata": {},
     "output_type": "execute_result"
    }
   ],
   "source": [
    "#Creating an empty DataFrame witch column names\n",
    "#----------------------------------------------------------------------------\n",
    "discount_per_product=pd.DataFrame(columns=['ProductId','Name','TotalOrders','DiscountedOrders','MeanQuantity',\n",
    "                          'MeanQuantityDiscounted','TValues','PValues','StatisticallySignificant'])\n",
    "\n",
    "#Creating empty lists to contain column information before adding to DataFrame\n",
    "#---------------------------------------------------------------------\n",
    "ProductId=[]\n",
    "Name=[]\n",
    "TotalOrders=[]\n",
    "DiscountedOrders=[]\n",
    "TValues=[]\n",
    "PValues=[]\n",
    "StatisticallySignificant=[]\n",
    "MeanQuantity=[]\n",
    "MeanQuantityDiscounted=[]\n",
    "\n",
    "#Gathering Data\n",
    "#---------------------------------------------------------------------\n",
    "\n",
    "for i in range(1,len(product_discounts.ProductId.unique())+1):\n",
    "\n",
    "    #for each product creating a dataframe of all orders and \n",
    "    #then splitting between dsicounted and not discounted\n",
    "    #----------------------------------------------------------------\n",
    "    b=product_discounts[product_discounts['ProductId']==i]\n",
    "    nodisc=b[b['Discount']==0]\n",
    "    disc= b[b['Discount']!=0]\n",
    "    #Gathering ProductId, Name, TValue, Pvalue for alpha=5% \n",
    "    #and number of orders for each product\n",
    "    #-----------------------------------------------------------------\n",
    "    name=product_discounts.ProductName[product_discounts['ProductId']==i].unique()[0]\n",
    "    results = stats.ttest_1samp(a= disc.Quantity, popmean= b.Quantity.mean())\n",
    "    tvalue=round(results[0], 2)\n",
    "    pvalue=np.round((results[1]), 4)\n",
    "    totalorders=len(b)\n",
    "    meanquantity=round(b.Quantity.mean(),2)\n",
    "    meanquantitydiscounted=round(disc.Quantity.mean(),2)\n",
    "    discountorders=len(disc)\n",
    "    statisticallysignificant= tvalue>np.round(stats.t.ppf(1 - 0.05, df=len(disc)-1),3)\n",
    "    #Adding Data To Vectors that will be combined into a DataFrame\n",
    "    #------------------------------------------------------------------\n",
    "    ProductId.append(i)\n",
    "    Name.append(name)\n",
    "    TotalOrders.append(totalorders)\n",
    "    DiscountedOrders.append(discountorders)\n",
    "    MeanQuantity.append(meanquantity)\n",
    "    MeanQuantityDiscounted.append(meanquantitydiscounted)\n",
    "    TValues.append(tvalue)\n",
    "    PValues.append(pvalue)\n",
    "    StatisticallySignificant.append(statisticallysignificant)\n",
    "    \n",
    "\n",
    "#Adding to Dataframe\n",
    "#---------------------------------------------------------------------\n",
    "discount_per_product.ProductId=ProductId\n",
    "discount_per_product.Name=Name\n",
    "discount_per_product.TotalOrders=TotalOrders\n",
    "discount_per_product.DiscountedOrders=DiscountedOrders\n",
    "discount_per_product.MeanQuantity=MeanQuantity\n",
    "discount_per_product.MeanQuantityDiscounted=MeanQuantityDiscounted\n",
    "discount_per_product.TValues=TValues\n",
    "discount_per_product.PValues=PValues\n",
    "discount_per_product.StatisticallySignificant=StatisticallySignificant\n",
    "\n",
    "#Looking at resulting DataFrame\n",
    "#----------------------------------------------------------------------\n",
    "discount_per_product.head()\n",
    "\n",
    "\n"
   ]
  },
  {
   "cell_type": "code",
   "execution_count": 18,
   "metadata": {},
   "outputs": [
    {
     "data": {
      "text/plain": [
       "0"
      ]
     },
     "execution_count": 18,
     "metadata": {},
     "output_type": "execute_result"
    }
   ],
   "source": [
    "#For how many products did quantity \n",
    "#in the same order increase with discount?\n",
    "#---------------------------------------------------------------------\n",
    "len(discount_per_product[discount_per_product['StatisticallySignificant']==True])\n",
    "\n"
   ]
  },
  {
   "cell_type": "markdown",
   "metadata": {},
   "source": [
    "#### Results\n",
    "\n",
    "Fail to reject null hypothesis for all 77 products. There is no statistical difference at the 5% level of significance in the number of single product customers will order on the same order whether there is a discount on them or not. In other words, statistically speaking, people won't buy more of the same because it's discounted, they will use the money to buy other products.\n"
   ]
  },
  {
   "cell_type": "markdown",
   "metadata": {},
   "source": [
    "## Question 4 : Are there regions where discounts have a significantly higher effect on quantity purchased compared to the other regions?\n",
    "\n",
    "$H_0$: Discounts have the same effect in all regions\n",
    "\n",
    "$H_\\alpha$: Discounts increase quantity more significantly in certain regions.\n",
    "\n",
    "We are going to compare the mean quantity on disocunted orders in each region to the mean quantity on discounted orders in all regions combined."
   ]
  },
  {
   "cell_type": "code",
   "execution_count": 19,
   "metadata": {},
   "outputs": [
    {
     "data": {
      "text/html": [
       "<div>\n",
       "<style scoped>\n",
       "    .dataframe tbody tr th:only-of-type {\n",
       "        vertical-align: middle;\n",
       "    }\n",
       "\n",
       "    .dataframe tbody tr th {\n",
       "        vertical-align: top;\n",
       "    }\n",
       "\n",
       "    .dataframe thead th {\n",
       "        text-align: right;\n",
       "    }\n",
       "</style>\n",
       "<table border=\"1\" class=\"dataframe\">\n",
       "  <thead>\n",
       "    <tr style=\"text-align: right;\">\n",
       "      <th></th>\n",
       "      <th>Region</th>\n",
       "      <th>OrderId</th>\n",
       "      <th>ProductId</th>\n",
       "      <th>Discount</th>\n",
       "      <th>CustomerId</th>\n",
       "      <th>Quantity</th>\n",
       "    </tr>\n",
       "  </thead>\n",
       "  <tbody>\n",
       "    <tr>\n",
       "      <th>6</th>\n",
       "      <td>South America</td>\n",
       "      <td>10250</td>\n",
       "      <td>51</td>\n",
       "      <td>0.15</td>\n",
       "      <td>HANAR</td>\n",
       "      <td>35</td>\n",
       "    </tr>\n",
       "    <tr>\n",
       "      <th>7</th>\n",
       "      <td>South America</td>\n",
       "      <td>10250</td>\n",
       "      <td>65</td>\n",
       "      <td>0.15</td>\n",
       "      <td>HANAR</td>\n",
       "      <td>15</td>\n",
       "    </tr>\n",
       "    <tr>\n",
       "      <th>8</th>\n",
       "      <td>Western Europe</td>\n",
       "      <td>10251</td>\n",
       "      <td>22</td>\n",
       "      <td>0.05</td>\n",
       "      <td>VICTE</td>\n",
       "      <td>6</td>\n",
       "    </tr>\n",
       "    <tr>\n",
       "      <th>9</th>\n",
       "      <td>Western Europe</td>\n",
       "      <td>10251</td>\n",
       "      <td>57</td>\n",
       "      <td>0.05</td>\n",
       "      <td>VICTE</td>\n",
       "      <td>15</td>\n",
       "    </tr>\n",
       "    <tr>\n",
       "      <th>11</th>\n",
       "      <td>Western Europe</td>\n",
       "      <td>10252</td>\n",
       "      <td>20</td>\n",
       "      <td>0.05</td>\n",
       "      <td>SUPRD</td>\n",
       "      <td>40</td>\n",
       "    </tr>\n",
       "  </tbody>\n",
       "</table>\n",
       "</div>"
      ],
      "text/plain": [
       "            Region  OrderId  ProductId  Discount CustomerId  Quantity\n",
       "6    South America    10250         51      0.15      HANAR        35\n",
       "7    South America    10250         65      0.15      HANAR        15\n",
       "8   Western Europe    10251         22      0.05      VICTE         6\n",
       "9   Western Europe    10251         57      0.05      VICTE        15\n",
       "11  Western Europe    10252         20      0.05      SUPRD        40"
      ]
     },
     "execution_count": 19,
     "metadata": {},
     "output_type": "execute_result"
    }
   ],
   "source": [
    "orders_per_region = pd.read_sql_query('''\n",
    "\n",
    "                        SELECT  Region, OrderId, ProductId, Discount , CustomerId, Quantity FROM [OrderDetail] od\n",
    "                        JOIN [Order] o\n",
    "                        ON od.OrderId = o.Id\n",
    "                        JOIN [Customer] c\n",
    "                        ON o.CustomerId = c.Id\n",
    "                        \n",
    "                        ''',conn)\n",
    "\n",
    "#Isolating orders with discounts\n",
    "#-------------------------------------------------------------------------------------------------------------------------------\n",
    "discorders_per_region=orders_per_region[orders_per_region['Discount']!=0]\n",
    "discorders_per_region.head()"
   ]
  },
  {
   "cell_type": "code",
   "execution_count": 20,
   "metadata": {},
   "outputs": [
    {
     "name": "stdout",
     "output_type": "stream",
     "text": [
      "In the region(s) of ['North America'] discounts have a statistically significant impact on quantity at the 5% level of confidence.\n"
     ]
    }
   ],
   "source": [
    "mean_discountedorders = discorders_per_region.Quantity.mean()\n",
    "significant=[]\n",
    "not_significant=[]\n",
    "\n",
    "for region in orders_per_region.Region.unique():\n",
    "    \n",
    "    b=discorders_per_region[discorders_per_region['Region']==region]\n",
    "    mean=round(b.Quantity.mean(),2)\n",
    "    results = stats.ttest_1samp(a= b.Quantity, popmean= mean_discountedorders)\n",
    "    t_crit = np.round(stats.t.ppf(1 - 0.05, df=len(b)),3)\n",
    "    if results[0]>t_crit and results[1]<0.05:\n",
    "        significant.append(b.Region.unique())\n",
    "    else:\n",
    "        not_significant.append(b.Region.unique())\n",
    "\n",
    "print( 'In the region(s) of',significant[0],'discounts have a statistically significant impact on quantity at the 5% level of confidence.')\n",
    "    #print (\"For the region of\",region,\", The t-value for sample is\", round(results[0], 2), \"and the p-value is\", np.round((results[1]), 4),'\\n')"
   ]
  },
  {
   "cell_type": "markdown",
   "metadata": {},
   "source": [
    "#### Results\n",
    "\n",
    "We Reject the Null Hypothesis at the 5% level of confidence for the region of North America where quantity purchased when there is a discount is statistically significantly higher compared to quantity purchased in other regions when there is a discount.\n"
   ]
  },
  {
   "cell_type": "markdown",
   "metadata": {},
   "source": [
    "## Question 5: Can we find geographical areas as small as zipcodes that order significantly higher total quantity of products?\n",
    "\n",
    "We will be comparing the average total quantity of products ordered per oder and per zipcode to average quantity per order.\n",
    "\n",
    "$H_0$: No zipcode orders significantly higher quantity of products per order.\n",
    "\n",
    "$H_\\alpha$: Some zipcodes tend to place orders with higher quantities.\n",
    "\n"
   ]
  },
  {
   "cell_type": "code",
   "execution_count": 21,
   "metadata": {},
   "outputs": [
    {
     "data": {
      "text/html": [
       "<div>\n",
       "<style scoped>\n",
       "    .dataframe tbody tr th:only-of-type {\n",
       "        vertical-align: middle;\n",
       "    }\n",
       "\n",
       "    .dataframe tbody tr th {\n",
       "        vertical-align: top;\n",
       "    }\n",
       "\n",
       "    .dataframe thead th {\n",
       "        text-align: right;\n",
       "    }\n",
       "</style>\n",
       "<table border=\"1\" class=\"dataframe\">\n",
       "  <thead>\n",
       "    <tr style=\"text-align: right;\">\n",
       "      <th></th>\n",
       "      <th>OrderId</th>\n",
       "      <th>Quantity</th>\n",
       "      <th>ShipPostalCode</th>\n",
       "    </tr>\n",
       "  </thead>\n",
       "  <tbody>\n",
       "    <tr>\n",
       "      <th>0</th>\n",
       "      <td>10248</td>\n",
       "      <td>12</td>\n",
       "      <td>51100</td>\n",
       "    </tr>\n",
       "    <tr>\n",
       "      <th>1</th>\n",
       "      <td>10248</td>\n",
       "      <td>10</td>\n",
       "      <td>51100</td>\n",
       "    </tr>\n",
       "    <tr>\n",
       "      <th>2</th>\n",
       "      <td>10248</td>\n",
       "      <td>5</td>\n",
       "      <td>51100</td>\n",
       "    </tr>\n",
       "    <tr>\n",
       "      <th>3</th>\n",
       "      <td>10249</td>\n",
       "      <td>9</td>\n",
       "      <td>44087</td>\n",
       "    </tr>\n",
       "    <tr>\n",
       "      <th>4</th>\n",
       "      <td>10249</td>\n",
       "      <td>40</td>\n",
       "      <td>44087</td>\n",
       "    </tr>\n",
       "  </tbody>\n",
       "</table>\n",
       "</div>"
      ],
      "text/plain": [
       "   OrderId  Quantity ShipPostalCode\n",
       "0    10248        12          51100\n",
       "1    10248        10          51100\n",
       "2    10248         5          51100\n",
       "3    10249         9          44087\n",
       "4    10249        40          44087"
      ]
     },
     "execution_count": 21,
     "metadata": {},
     "output_type": "execute_result"
    }
   ],
   "source": [
    "orders_per_postalcode = pd.read_sql_query('''\n",
    "\n",
    "                        SELECT  OrderId, Quantity, ShipPostalCode FROM [OrderDetail] od\n",
    "                        JOIN [Order] o\n",
    "                        ON od.OrderId = o.Id\n",
    "                        \n",
    "                        ''',conn)\n",
    "\n",
    "orders_per_postalcode.head()"
   ]
  },
  {
   "cell_type": "code",
   "execution_count": 22,
   "metadata": {},
   "outputs": [
    {
     "data": {
      "text/plain": [
       "OrderId            0\n",
       "Quantity           0\n",
       "ShipPostalCode    55\n",
       "dtype: int64"
      ]
     },
     "execution_count": 22,
     "metadata": {},
     "output_type": "execute_result"
    }
   ],
   "source": [
    "orders_per_postalcode.isna().sum()"
   ]
  },
  {
   "cell_type": "code",
   "execution_count": 23,
   "metadata": {},
   "outputs": [],
   "source": [
    "orders_per_postalcode.dropna(inplace=True)"
   ]
  },
  {
   "cell_type": "code",
   "execution_count": 24,
   "metadata": {},
   "outputs": [],
   "source": [
    "orders = orders_per_postalcode['OrderId'].unique()\n",
    "groups = {}\n",
    "for i in orders:\n",
    "    groups[i] = orders_per_postalcode[orders_per_postalcode['OrderId']==i]"
   ]
  },
  {
   "cell_type": "code",
   "execution_count": 25,
   "metadata": {},
   "outputs": [
    {
     "data": {
      "text/html": [
       "<div>\n",
       "<style scoped>\n",
       "    .dataframe tbody tr th:only-of-type {\n",
       "        vertical-align: middle;\n",
       "    }\n",
       "\n",
       "    .dataframe tbody tr th {\n",
       "        vertical-align: top;\n",
       "    }\n",
       "\n",
       "    .dataframe thead th {\n",
       "        text-align: right;\n",
       "    }\n",
       "</style>\n",
       "<table border=\"1\" class=\"dataframe\">\n",
       "  <thead>\n",
       "    <tr style=\"text-align: right;\">\n",
       "      <th></th>\n",
       "      <th>OrderId</th>\n",
       "      <th>Quantity</th>\n",
       "      <th>ShipPostalCode</th>\n",
       "    </tr>\n",
       "  </thead>\n",
       "  <tbody>\n",
       "    <tr>\n",
       "      <th>0</th>\n",
       "      <td>10248</td>\n",
       "      <td>27</td>\n",
       "      <td>51100</td>\n",
       "    </tr>\n",
       "    <tr>\n",
       "      <th>1</th>\n",
       "      <td>10249</td>\n",
       "      <td>49</td>\n",
       "      <td>44087</td>\n",
       "    </tr>\n",
       "    <tr>\n",
       "      <th>2</th>\n",
       "      <td>10250</td>\n",
       "      <td>60</td>\n",
       "      <td>05454-876</td>\n",
       "    </tr>\n",
       "    <tr>\n",
       "      <th>3</th>\n",
       "      <td>10251</td>\n",
       "      <td>41</td>\n",
       "      <td>69004</td>\n",
       "    </tr>\n",
       "    <tr>\n",
       "      <th>4</th>\n",
       "      <td>10252</td>\n",
       "      <td>105</td>\n",
       "      <td>B-6000</td>\n",
       "    </tr>\n",
       "  </tbody>\n",
       "</table>\n",
       "</div>"
      ],
      "text/plain": [
       "  OrderId Quantity ShipPostalCode\n",
       "0   10248       27          51100\n",
       "1   10249       49          44087\n",
       "2   10250       60      05454-876\n",
       "3   10251       41          69004\n",
       "4   10252      105         B-6000"
      ]
     },
     "execution_count": 25,
     "metadata": {},
     "output_type": "execute_result"
    }
   ],
   "source": [
    "zipcodes = pd.DataFrame(columns=orders_per_postalcode.columns)\n",
    "for i in groups.keys():\n",
    "    code=list(groups[i]['ShipPostalCode'])\n",
    "    zipcodes = zipcodes.append({'OrderId':i,'Quantity':groups[i]['Quantity'].sum(),'ShipPostalCode':code[0]}, ignore_index=True)\n",
    "        \n",
    "zipcodes.head()"
   ]
  },
  {
   "cell_type": "code",
   "execution_count": 26,
   "metadata": {},
   "outputs": [
    {
     "data": {
      "text/plain": [
       "61.199753390875465"
      ]
     },
     "execution_count": 26,
     "metadata": {},
     "output_type": "execute_result"
    }
   ],
   "source": [
    "mu=zipcodes.Quantity.mean()\n",
    "mu\n"
   ]
  },
  {
   "cell_type": "code",
   "execution_count": 27,
   "metadata": {},
   "outputs": [
    {
     "name": "stdout",
     "output_type": "stream",
     "text": [
      "51100 T-Stat is -28.46 P-Value is 0.0\n",
      "44087 T-Stat is -14.73 P-Value is 0.0\n",
      "05454-876 T-Stat is -12.88 P-Value is 0.0\n",
      "69004 T-Stat is -20.64 P-Value is 0.0\n",
      "B-6000 T-Stat is -14.41 P-Value is 0.0\n",
      "3012 T-Stat is -17.37 P-Value is 0.0\n",
      "1204 T-Stat is -10.99 P-Value is 0.0\n",
      "08737-363 T-Stat is -28.7 P-Value is 0.0\n",
      "5022 T-Stat is -15.15 P-Value is 0.0\n",
      "8010 T-Stat is -5.54 P-Value is 0.0\n",
      "50739 T-Stat is -19.06 P-Value is 0.0\n",
      "02389-673 T-Stat is -23.43 P-Value is 0.0\n",
      "87110 T-Stat is -18.8 P-Value is 0.0\n",
      "S-844 67 T-Stat is -14.02 P-Value is 0.0\n",
      "67000 T-Stat is -13.95 P-Value is 0.0\n",
      "90110 T-Stat is -22.57 P-Value is 0.0\n",
      "80805 T-Stat is -13.19 P-Value is 0.0\n",
      "1081 T-Stat is -35.13 P-Value is 0.0\n",
      "98124 T-Stat is -13.48 P-Value is 0.0\n",
      "82520 T-Stat is -24.11 P-Value is 0.0\n",
      "01307 T-Stat is -5.51 P-Value is 0.0\n",
      "24100 T-Stat is -14.83 P-Value is 0.0\n",
      "05033 T-Stat is -39.8 P-Value is 0.0\n",
      "04179 T-Stat is -21.84 P-Value is 0.0\n",
      "S-958 22 T-Stat is -25.95 P-Value is 0.0\n",
      "60528 T-Stat is -24.99 P-Value is 0.0\n",
      "28001 T-Stat is -39.59 P-Value is 0.0\n",
      "3508 T-Stat is -13.69 P-Value is 0.0\n",
      "02389-890 T-Stat is -13.05 P-Value is 0.0\n",
      "42100 T-Stat is -25.65 P-Value is 0.0\n",
      "EC2 5NT T-Stat is -25.39 P-Value is 0.0\n",
      "05432-043 T-Stat is -19.77 P-Value is 0.0\n",
      "05634-030 T-Stat is -19.25 P-Value is 0.0\n",
      "70563 T-Stat is -21.04 P-Value is 0.0\n",
      "41101 T-Stat is -24.86 P-Value is 0.0\n",
      "99508 T-Stat is -13.08 P-Value is 0.0\n",
      "97219 T-Stat is -30.44 P-Value is 0.0\n",
      "05021 T-Stat is -48.34 P-Value is 0.0\n",
      "97201 T-Stat is -43.02 P-Value is 0.0\n",
      "44000 T-Stat is -42.83 P-Value is 0.0\n",
      "PO31 7PJ T-Stat is -29.94 P-Value is 0.0\n",
      "14776 T-Stat is -17.61 P-Value is 0.0\n",
      "83720 T-Stat is -7.01 P-Value is 0.0\n",
      "28023 T-Stat is -5.35 P-Value is 0.0\n",
      "1675 T-Stat is -16.37 P-Value is 0.0\n",
      "13008 T-Stat is -22.14 P-Value is 0.0\n",
      "H1J 1C3 T-Stat is -8.55 P-Value is 0.0\n",
      "1756 T-Stat is -20.09 P-Value is 0.0\n",
      "1734 T-Stat is -8.5 P-Value is 0.0\n",
      "05442-030 T-Stat is -11.6 P-Value is 0.0\n",
      "31000 T-Stat is -35.05 P-Value is 0.0\n",
      "5020 T-Stat is -12.51 P-Value is 0.0\n",
      "CO7 6JX T-Stat is -17.24 P-Value is 0.0\n",
      "OX15 4NB T-Stat is -6.66 P-Value is 0.0\n",
      "52066 T-Stat is -20.78 P-Value is 0.0\n",
      "WX3 6FW T-Stat is -10.54 P-Value is 0.0\n",
      "05023 T-Stat is -13.43 P-Value is 0.0\n",
      "8022 T-Stat is -223.8 P-Value is 0.0\n",
      "8200 T-Stat is -13.46 P-Value is 0.0\n",
      "05487-020 T-Stat is -13.6 P-Value is 0.0\n",
      "01-012 T-Stat is -22.93 P-Value is 0.0\n",
      "97827 T-Stat is -16.08 P-Value is 0.0\n",
      "4110 T-Stat is -44.36 P-Value is 0.0\n",
      "T2F 8M4 T-Stat is -12.34 P-Value is 0.0\n",
      "4980 T-Stat is -13.25 P-Value is 0.0\n",
      "59000 T-Stat is -11.22 P-Value is 0.0\n",
      "1010 T-Stat is -42.49 P-Value is 0.0\n",
      "10100 T-Stat is -57.62 P-Value is 0.0\n",
      "04876-786 T-Stat is -19.71 P-Value is 0.0\n",
      "WX1 6LT T-Stat is -12.76 P-Value is 0.0\n",
      "V3F 2K1 T-Stat is -28.75 P-Value is 0.0\n",
      "68306 T-Stat is -31.66 P-Value is 0.0\n",
      "SW7 1RZ T-Stat is -68.83 P-Value is 0.0\n",
      "97403 T-Stat is -21.45 P-Value is 0.0\n",
      "B-1180 T-Stat is -14.8 P-Value is 0.0\n",
      "98034 T-Stat is -24.16 P-Value is 0.0\n",
      "94117 T-Stat is -10.2 P-Value is 0.0\n",
      "21240 T-Stat is -40.39 P-Value is 0.0\n",
      "59801 T-Stat is -51.21 P-Value is 0.0\n",
      "12209 T-Stat is -14.9 P-Value is 0.0\n",
      "75016 T-Stat is -32.18 P-Value is 0.0\n",
      "78000 T-Stat is -38.77 P-Value is 0.0\n"
     ]
    }
   ],
   "source": [
    "for code in list(orders_per_postalcode.ShipPostalCode.unique()):\n",
    "    data=orders_per_postalcode[orders_per_postalcode['ShipPostalCode']==code]['Quantity']\n",
    "    if len(data)>3:\n",
    "        results = stats.ttest_1samp(a= data, popmean= mu)\n",
    "        if round(results[1],2)<0.05:\n",
    "            print(code,'T-Stat is',round(results[0],2),'P-Value is',round(results[1],2))\n",
    "\n"
   ]
  },
  {
   "cell_type": "markdown",
   "metadata": {},
   "source": [
    "#### Results\n",
    "\n",
    "Since all the values are statistically significant at a significance level of 5% or less, we can say at that level of confidence that there is no zipcode(s) that stands out when it comes to quantity ordered. The zipcode level might be too small, too detailed for the analysis, we can try analyzing per city or country.\n"
   ]
  },
  {
   "cell_type": "markdown",
   "metadata": {},
   "source": [
    "# Conclusion"
   ]
  },
  {
   "cell_type": "markdown",
   "metadata": {},
   "source": [
    "- Discounts do improve the overall quantity ordered regardless of the level of discount\n",
    "- Discounts do no increase the quantity of the discounted products in the order but rather allow people to purchase different types of products\n",
    "- No category stands out when it comes to effect of the discount.\n",
    "- Discounts seem to be most efficient in North America\n",
    "- No specific zipcodes stand out as of effect of discounts"
   ]
  },
  {
   "cell_type": "markdown",
   "metadata": {},
   "source": [
    "## Further Steps"
   ]
  },
  {
   "cell_type": "markdown",
   "metadata": {},
   "source": [
    "- Do the discount analysis on revenue, establish if customers end up spending more\n",
    "- Analyze employees performance \n",
    "- Analyze Shipping companies performance and effect on bottom line\n"
   ]
  }
 ],
 "metadata": {
  "kernelspec": {
   "display_name": "Python 3",
   "language": "python",
   "name": "python3"
  },
  "language_info": {
   "codemirror_mode": {
    "name": "ipython",
    "version": 3
   },
   "file_extension": ".py",
   "mimetype": "text/x-python",
   "name": "python",
   "nbconvert_exporter": "python",
   "pygments_lexer": "ipython3",
   "version": "3.6.6"
  }
 },
 "nbformat": 4,
 "nbformat_minor": 2
}
